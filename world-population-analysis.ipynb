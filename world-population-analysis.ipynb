{
 "cells": [
  {
   "cell_type": "code",
   "execution_count": 1,
   "id": "f251196d",
   "metadata": {
    "_cell_guid": "b1076dfc-b9ad-4769-8c92-a6c4dae69d19",
    "_uuid": "8f2839f25d086af736a60e9eeb907d3b93b6e0e5",
    "execution": {
     "iopub.execute_input": "2022-08-11T07:14:56.905737Z",
     "iopub.status.busy": "2022-08-11T07:14:56.904422Z",
     "iopub.status.idle": "2022-08-11T07:14:56.920779Z",
     "shell.execute_reply": "2022-08-11T07:14:56.921544Z",
     "shell.execute_reply.started": "2022-08-11T06:52:38.218374Z"
    },
    "papermill": {
     "duration": 0.034052,
     "end_time": "2022-08-11T07:14:56.922123",
     "exception": false,
     "start_time": "2022-08-11T07:14:56.888071",
     "status": "completed"
    },
    "tags": []
   },
   "outputs": [
    {
     "name": "stdout",
     "output_type": "stream",
     "text": [
      "/kaggle/input/world-population/World Population.csv\n"
     ]
    }
   ],
   "source": [
    "# This Python 3 environment comes with many helpful analytics libraries installed\n",
    "# It is defined by the kaggle/python Docker image: https://github.com/kaggle/docker-python\n",
    "# For example, here's several helpful packages to load\n",
    "\n",
    "import numpy as np # linear algebra\n",
    "import pandas as pd # data processing, CSV file I/O (e.g. pd.read_csv)\n",
    "\n",
    "# Input data files are available in the read-only \"../input/\" directory\n",
    "# For example, running this (by clicking run or pressing Shift+Enter) will list all files under the input directory\n",
    "\n",
    "import os\n",
    "for dirname, _, filenames in os.walk('/kaggle/input'):\n",
    "    for filename in filenames:\n",
    "        print(os.path.join(dirname, filename))\n",
    "\n",
    "# You can write up to 20GB to the current directory (/kaggle/working/) that gets preserved as output when you create a version using \"Save & Run All\" \n",
    "# You can also write temporary files to /kaggle/temp/, but they won't be saved outside of the current session"
   ]
  },
  {
   "cell_type": "markdown",
   "id": "82468987",
   "metadata": {
    "papermill": {
     "duration": 0.010931,
     "end_time": "2022-08-11T07:14:56.946705",
     "exception": false,
     "start_time": "2022-08-11T07:14:56.935774",
     "status": "completed"
    },
    "tags": []
   },
   "source": [
    "# Population Dataset"
   ]
  },
  {
   "cell_type": "code",
   "execution_count": 2,
   "id": "18c5e44a",
   "metadata": {
    "execution": {
     "iopub.execute_input": "2022-08-11T07:14:56.971935Z",
     "iopub.status.busy": "2022-08-11T07:14:56.971274Z",
     "iopub.status.idle": "2022-08-11T07:14:58.001837Z",
     "shell.execute_reply": "2022-08-11T07:14:58.001117Z",
     "shell.execute_reply.started": "2022-08-11T06:52:41.373906Z"
    },
    "papermill": {
     "duration": 1.044122,
     "end_time": "2022-08-11T07:14:58.001988",
     "exception": false,
     "start_time": "2022-08-11T07:14:56.957866",
     "status": "completed"
    },
    "tags": []
   },
   "outputs": [],
   "source": [
    "import pandas as pd\n",
    "import matplotlib.pyplot as plt\n",
    "import seaborn as sns"
   ]
  },
  {
   "cell_type": "code",
   "execution_count": 3,
   "id": "4186bc15",
   "metadata": {
    "execution": {
     "iopub.execute_input": "2022-08-11T07:14:58.030438Z",
     "iopub.status.busy": "2022-08-11T07:14:58.029698Z",
     "iopub.status.idle": "2022-08-11T07:14:58.048926Z",
     "shell.execute_reply": "2022-08-11T07:14:58.048194Z",
     "shell.execute_reply.started": "2022-08-11T06:52:48.394066Z"
    },
    "papermill": {
     "duration": 0.035965,
     "end_time": "2022-08-11T07:14:58.049082",
     "exception": false,
     "start_time": "2022-08-11T07:14:58.013117",
     "status": "completed"
    },
    "tags": []
   },
   "outputs": [],
   "source": [
    "population=pd.read_csv('../input/world-population/World Population.csv')"
   ]
  },
  {
   "cell_type": "code",
   "execution_count": 4,
   "id": "0a717c3e",
   "metadata": {
    "execution": {
     "iopub.execute_input": "2022-08-11T07:14:58.080502Z",
     "iopub.status.busy": "2022-08-11T07:14:58.079830Z",
     "iopub.status.idle": "2022-08-11T07:14:58.095022Z",
     "shell.execute_reply": "2022-08-11T07:14:58.094424Z",
     "shell.execute_reply.started": "2022-08-11T06:53:30.095154Z"
    },
    "papermill": {
     "duration": 0.034822,
     "end_time": "2022-08-11T07:14:58.095180",
     "exception": false,
     "start_time": "2022-08-11T07:14:58.060358",
     "status": "completed"
    },
    "tags": []
   },
   "outputs": [
    {
     "data": {
      "text/html": [
       "<div>\n",
       "<style scoped>\n",
       "    .dataframe tbody tr th:only-of-type {\n",
       "        vertical-align: middle;\n",
       "    }\n",
       "\n",
       "    .dataframe tbody tr th {\n",
       "        vertical-align: top;\n",
       "    }\n",
       "\n",
       "    .dataframe thead th {\n",
       "        text-align: right;\n",
       "    }\n",
       "</style>\n",
       "<table border=\"1\" class=\"dataframe\">\n",
       "  <thead>\n",
       "    <tr style=\"text-align: right;\">\n",
       "      <th></th>\n",
       "      <th>Rank</th>\n",
       "      <th>Country</th>\n",
       "      <th>Region</th>\n",
       "      <th>Population</th>\n",
       "      <th>Percentage</th>\n",
       "      <th>Date</th>\n",
       "    </tr>\n",
       "  </thead>\n",
       "  <tbody>\n",
       "    <tr>\n",
       "      <th>0</th>\n",
       "      <td>1</td>\n",
       "      <td>China</td>\n",
       "      <td>Asia</td>\n",
       "      <td>1411778724</td>\n",
       "      <td>17.80%</td>\n",
       "      <td>20-Nov</td>\n",
       "    </tr>\n",
       "    <tr>\n",
       "      <th>1</th>\n",
       "      <td>2</td>\n",
       "      <td>India</td>\n",
       "      <td>Asia</td>\n",
       "      <td>1386141732</td>\n",
       "      <td>17.50%</td>\n",
       "      <td>21-Dec</td>\n",
       "    </tr>\n",
       "    <tr>\n",
       "      <th>2</th>\n",
       "      <td>3</td>\n",
       "      <td>United States</td>\n",
       "      <td>Americas</td>\n",
       "      <td>332960297</td>\n",
       "      <td>4.20%</td>\n",
       "      <td>21-Dec</td>\n",
       "    </tr>\n",
       "    <tr>\n",
       "      <th>3</th>\n",
       "      <td>4</td>\n",
       "      <td>Indonesia</td>\n",
       "      <td>Asia</td>\n",
       "      <td>271350000</td>\n",
       "      <td>3.43%</td>\n",
       "      <td>20-Dec</td>\n",
       "    </tr>\n",
       "    <tr>\n",
       "      <th>4</th>\n",
       "      <td>5</td>\n",
       "      <td>Pakistan</td>\n",
       "      <td>Asia</td>\n",
       "      <td>225200000</td>\n",
       "      <td>2.84%</td>\n",
       "      <td>21-Jul</td>\n",
       "    </tr>\n",
       "  </tbody>\n",
       "</table>\n",
       "</div>"
      ],
      "text/plain": [
       "   Rank        Country    Region  Population Percentage    Date\n",
       "0     1          China      Asia  1411778724     17.80%  20-Nov\n",
       "1     2          India      Asia  1386141732     17.50%  21-Dec\n",
       "2     3  United States  Americas   332960297      4.20%  21-Dec\n",
       "3     4      Indonesia      Asia   271350000      3.43%  20-Dec\n",
       "4     5       Pakistan      Asia   225200000      2.84%  21-Jul"
      ]
     },
     "execution_count": 4,
     "metadata": {},
     "output_type": "execute_result"
    }
   ],
   "source": [
    "population.head()"
   ]
  },
  {
   "cell_type": "markdown",
   "id": "9a015a2b",
   "metadata": {
    "papermill": {
     "duration": 0.011348,
     "end_time": "2022-08-11T07:14:58.118363",
     "exception": false,
     "start_time": "2022-08-11T07:14:58.107015",
     "status": "completed"
    },
    "tags": []
   },
   "source": [
    "### What is the population of each region ?"
   ]
  },
  {
   "cell_type": "code",
   "execution_count": 5,
   "id": "bdb35dc4",
   "metadata": {
    "execution": {
     "iopub.execute_input": "2022-08-11T07:14:58.167096Z",
     "iopub.status.busy": "2022-08-11T07:14:58.166223Z",
     "iopub.status.idle": "2022-08-11T07:14:58.846309Z",
     "shell.execute_reply": "2022-08-11T07:14:58.846824Z",
     "shell.execute_reply.started": "2022-08-11T07:05:08.814853Z"
    },
    "papermill": {
     "duration": 0.717204,
     "end_time": "2022-08-11T07:14:58.847016",
     "exception": false,
     "start_time": "2022-08-11T07:14:58.129812",
     "status": "completed"
    },
    "tags": []
   },
   "outputs": [
    {
     "data": {
      "image/png": "[encoded data removed]",
      "text/plain": [
       "<Figure size 455.125x360 with 1 Axes>"
      ]
     },
     "metadata": {
      "needs_background": "light"
     },
     "output_type": "display_data"
    }
   ],
   "source": [
    "gr=sns.displot(data=population,y='Region',hue='Region', kde=True)\n",
    "plt.title(\"Population per Region\")\n",
    "plt.show()"
   ]
  },
  {
   "cell_type": "code",
   "execution_count": 6,
   "id": "1ef81a7c",
   "metadata": {
    "execution": {
     "iopub.execute_input": "2022-08-11T07:14:58.877113Z",
     "iopub.status.busy": "2022-08-11T07:14:58.876430Z",
     "iopub.status.idle": "2022-08-11T07:14:58.885374Z",
     "shell.execute_reply": "2022-08-11T07:14:58.886014Z",
     "shell.execute_reply.started": "2022-08-11T07:05:14.113294Z"
    },
    "papermill": {
     "duration": 0.025635,
     "end_time": "2022-08-11T07:14:58.886192",
     "exception": false,
     "start_time": "2022-08-11T07:14:58.860557",
     "status": "completed"
    },
    "tags": []
   },
   "outputs": [
    {
     "data": {
      "text/plain": [
       "Region\n",
       "Africa         1345290019\n",
       "Americas       1024609723\n",
       "Asia           4545166611\n",
       "Asia,Europe      83614362\n",
       "Europe          600873091\n",
       "Europe,Asia     146171015\n",
       "Oceania          43609090\n",
       "Name: Population, dtype: int64"
      ]
     },
     "execution_count": 6,
     "metadata": {},
     "output_type": "execute_result"
    }
   ],
   "source": [
    "population.groupby('Region')['Population'].sum()"
   ]
  },
  {
   "cell_type": "markdown",
   "id": "0ecb798c",
   "metadata": {
    "papermill": {
     "duration": 0.012794,
     "end_time": "2022-08-11T07:14:58.911657",
     "exception": false,
     "start_time": "2022-08-11T07:14:58.898863",
     "status": "completed"
    },
    "tags": []
   },
   "source": [
    "### Which country has the most population in each region ?"
   ]
  },
  {
   "cell_type": "code",
   "execution_count": 7,
   "id": "8e0cbd26",
   "metadata": {
    "execution": {
     "iopub.execute_input": "2022-08-11T07:14:58.940226Z",
     "iopub.status.busy": "2022-08-11T07:14:58.939514Z",
     "iopub.status.idle": "2022-08-11T07:14:58.948887Z",
     "shell.execute_reply": "2022-08-11T07:14:58.949515Z",
     "shell.execute_reply.started": "2022-08-11T07:05:35.864391Z"
    },
    "papermill": {
     "duration": 0.025325,
     "end_time": "2022-08-11T07:14:58.949730",
     "exception": false,
     "start_time": "2022-08-11T07:14:58.924405",
     "status": "completed"
    },
    "tags": []
   },
   "outputs": [
    {
     "name": "stdout",
     "output_type": "stream",
     "text": [
      "          Country       Region  Population\n",
      "0           China         Asia  1411778724\n",
      "2   United States     Americas   332960297\n",
      "6         Nigeria       Africa   211401000\n",
      "8          Russia  Europe,Asia   146171015\n",
      "17         Turkey  Asia,Europe    83614362\n",
      "18        Germany       Europe    83129285\n",
      "52      Australia      Oceania    25922849\n"
     ]
    }
   ],
   "source": [
    "pop=population.drop(columns=[\"Rank\",\"Date\",\"Percentage\"])\n",
    "pop.head(3)\n",
    "p=pop.groupby([\"Region\"], sort=\"True\").head(1)\n",
    "print(p)"
   ]
  },
  {
   "cell_type": "code",
   "execution_count": 8,
   "id": "88e44ba1",
   "metadata": {
    "execution": {
     "iopub.execute_input": "2022-08-11T07:14:58.978787Z",
     "iopub.status.busy": "2022-08-11T07:14:58.978116Z",
     "iopub.status.idle": "2022-08-11T07:14:59.199243Z",
     "shell.execute_reply": "2022-08-11T07:14:59.198466Z",
     "shell.execute_reply.started": "2022-08-11T07:05:43.242658Z"
    },
    "papermill": {
     "duration": 0.236537,
     "end_time": "2022-08-11T07:14:59.199400",
     "exception": false,
     "start_time": "2022-08-11T07:14:58.962863",
     "status": "completed"
    },
    "tags": []
   },
   "outputs": [
    {
     "data": {
      "image/png": "[encoded data removed]",
      "text/plain": [
       "<Figure size 432x288 with 1 Axes>"
      ]
     },
     "metadata": {
      "needs_background": "light"
     },
     "output_type": "display_data"
    }
   ],
   "source": [
    "plt.scatter(p[\"Country\"],p[\"Population\"])\n",
    "plt.title(\"Country with maximum population in each region\")\n",
    "plt.xlabel(\"Country\")\n",
    "plt.ylabel(\"Population\")\n",
    "plt.show()"
   ]
  },
  {
   "cell_type": "markdown",
   "id": "70dc468a",
   "metadata": {
    "papermill": {
     "duration": 0.013608,
     "end_time": "2022-08-11T07:14:59.227381",
     "exception": false,
     "start_time": "2022-08-11T07:14:59.213773",
     "status": "completed"
    },
    "tags": []
   },
   "source": [
    "### What is the percentage of the first 10 countries ?"
   ]
  },
  {
   "cell_type": "code",
   "execution_count": 9,
   "id": "52ce2dbe",
   "metadata": {
    "execution": {
     "iopub.execute_input": "2022-08-11T07:14:59.261024Z",
     "iopub.status.busy": "2022-08-11T07:14:59.260327Z",
     "iopub.status.idle": "2022-08-11T07:14:59.267464Z",
     "shell.execute_reply": "2022-08-11T07:14:59.268035Z",
     "shell.execute_reply.started": "2022-08-11T07:11:35.674766Z"
    },
    "papermill": {
     "duration": 0.026912,
     "end_time": "2022-08-11T07:14:59.268236",
     "exception": false,
     "start_time": "2022-08-11T07:14:59.241324",
     "status": "completed"
    },
    "tags": []
   },
   "outputs": [
    {
     "name": "stdout",
     "output_type": "stream",
     "text": [
      "   Rank        Country       Region  Population Percentage    Date\n",
      "9    10         Mexico     Americas   126014024      1.59%  20-Mar\n",
      "8     9         Russia  Europe,Asia   146171015      1.85%  21-Jan\n",
      "7     8     Bangladesh         Asia   171950056      2.17%  21-Dec\n",
      "6     7        Nigeria       Africa   211401000      2.67%  21-Jul\n",
      "5     6         Brazil     Americas   214143381      2.70%  21-Dec\n",
      "4     5       Pakistan         Asia   225200000      2.84%  21-Jul\n",
      "3     4      Indonesia         Asia   271350000      3.43%  20-Dec\n",
      "2     3  United States     Americas   332960297      4.20%  21-Dec\n",
      "1     2          India         Asia  1386141732     17.50%  21-Dec\n",
      "0     1          China         Asia  1411778724     17.80%  20-Nov\n"
     ]
    }
   ],
   "source": [
    "pop=population.sort_values(by=['Population'], ascending=True)\n",
    "percent=pop.tail(10)\n",
    "print(percent)"
   ]
  },
  {
   "cell_type": "code",
   "execution_count": 10,
   "id": "0b209378",
   "metadata": {
    "execution": {
     "iopub.execute_input": "2022-08-11T07:14:59.304954Z",
     "iopub.status.busy": "2022-08-11T07:14:59.304256Z",
     "iopub.status.idle": "2022-08-11T07:14:59.307003Z",
     "shell.execute_reply": "2022-08-11T07:14:59.307484Z",
     "shell.execute_reply.started": "2022-08-11T07:13:47.213311Z"
    },
    "papermill": {
     "duration": 0.024816,
     "end_time": "2022-08-11T07:14:59.307675",
     "exception": false,
     "start_time": "2022-08-11T07:14:59.282859",
     "status": "completed"
    },
    "tags": []
   },
   "outputs": [
    {
     "name": "stdout",
     "output_type": "stream",
     "text": [
      "The top 10 countries have a total of 56.75% population\n",
      "The bottom 10 countries have a total of 19.0% population\n"
     ]
    }
   ],
   "source": [
    "pt=pop.tail(10)[\"Percentage\"].tolist()\n",
    "sum=0\n",
    "for i in range(len(pt)):\n",
    "    sum+=float(pt[i][:-1])\n",
    "print(\"The top 10 countries have a total of {0}% population\".format(sum))\n",
    "\n",
    "pd=pop.tail(10)[\"Percentage\"].tolist()\n",
    "res=0\n",
    "for i in range(len(pd)):\n",
    "    res+=float(pt[i][:1])\n",
    "print(\"The bottom 10 countries have a total of {}% population\".format(res))"
   ]
  },
  {
   "cell_type": "code",
   "execution_count": null,
   "id": "19ccf790",
   "metadata": {
    "papermill": {
     "duration": 0.013971,
     "end_time": "2022-08-11T07:14:59.335948",
     "exception": false,
     "start_time": "2022-08-11T07:14:59.321977",
     "status": "completed"
    },
    "tags": []
   },
   "outputs": [],
   "source": []
  }
 ],
 "metadata": {
  "kernelspec": {
   "display_name": "Python 3",
   "language": "python",
   "name": "python3"
  },
  "language_info": {
   "codemirror_mode": {
    "name": "ipython",
    "version": 3
   },
   "file_extension": ".py",
   "mimetype": "text/x-python",
   "name": "python",
   "nbconvert_exporter": "python",
   "pygments_lexer": "ipython3",
   "version": "3.7.12"
  },
  "papermill": {
   "default_parameters": {},
   "duration": 13.005294,
   "end_time": "2022-08-11T07:15:00.060818",
   "environment_variables": {},
   "exception": null,
   "input_path": "__notebook__.ipynb",
   "output_path": "__notebook__.ipynb",
   "parameters": {},
   "start_time": "2022-08-11T07:14:47.055524",
   "version": "2.3.3"
  }
 },
 "nbformat": 4,
 "nbformat_minor": 5
}
